{
 "cells": [
  {
   "cell_type": "code",
   "execution_count": 1,
   "metadata": {},
   "outputs": [
    {
     "name": "stdout",
     "output_type": "stream",
     "text": [
      "hello\n"
     ]
    }
   ],
   "source": [
    "print(\"hello\")"
   ]
  },
  {
   "cell_type": "code",
   "execution_count": 6,
   "metadata": {},
   "outputs": [
    {
     "name": "stdout",
     "output_type": "stream",
     "text": [
      "Zero\n"
     ]
    }
   ],
   "source": [
    "a= int(input(\"Enter your Number\"))\n",
    "\n",
    "if a<0:\n",
    "  print(\"Negative\")\n",
    "elif a>0:\n",
    "  print(\"Positive\")\n",
    "else:\n",
    "  print(\"Zero\")\n"
   ]
  },
  {
   "cell_type": "code",
   "execution_count": 10,
   "metadata": {},
   "outputs": [
    {
     "name": "stdout",
     "output_type": "stream",
     "text": [
      "Not divided by 5 & 11\n"
     ]
    }
   ],
   "source": [
    "a= int(input(\"Enter your Number\"))\n",
    "if a%5 == 0 and a%11 == 0:\n",
    "        print(\"divided by 5 & 11\")\n",
    "else:\n",
    "        print(\"Not divided by 5 & 11\")\n"
   ]
  },
  {
   "cell_type": "code",
   "execution_count": 16,
   "metadata": {},
   "outputs": [
    {
     "name": "stdout",
     "output_type": "stream",
     "text": [
      "Year is a leap year\n"
     ]
    }
   ],
   "source": [
    "a= int(input(\"Enter your Number\"))\n",
    "if (a % 4 == 0 and (a % 100 != 0 or a % 400 == 0)):\n",
    "     print(\"Year is a leap year\")\n",
    "else:\n",
    "     print(\"Year is not leap\")"
   ]
  },
  {
   "cell_type": "code",
   "execution_count": 19,
   "metadata": {},
   "outputs": [
    {
     "name": "stdout",
     "output_type": "stream",
     "text": [
      "Charecter is not alphabet\n"
     ]
    }
   ],
   "source": [
    "a= (input(\"Enter your Number\"))  \n",
    "if(a >= 'a' and a <= 'z'):\n",
    "     print(\"Character is alphabet\")\n",
    "else:\n",
    "     print(\"Charecter is not alphabet\")"
   ]
  },
  {
   "cell_type": "code",
   "execution_count": 23,
   "metadata": {},
   "outputs": [
    {
     "name": "stdout",
     "output_type": "stream",
     "text": [
      "Vowel\n"
     ]
    }
   ],
   "source": [
    "a= (input(\"Enter your Number\"))\n",
    "if (a == 'a' or a == 'e' or a == 'i' or a == 'o' or a == 'u'):\n",
    "    print(\"Vowel\")\n",
    "else:\n",
    "    print(\"consonant\")\n"
   ]
  },
  {
   "cell_type": "code",
   "execution_count": 26,
   "metadata": {},
   "outputs": [
    {
     "name": "stdout",
     "output_type": "stream",
     "text": [
      "special character\n"
     ]
    }
   ],
   "source": [
    "a= (input(\"Enter your Number\"))\n",
    "if (a >= 'a' and a <= 'z'):\n",
    "     print(\"alphabet\")\n",
    "elif (a >= '0' and a <= '9'):\n",
    "     print(\"number\")\n",
    "else:\n",
    "    print(\"special character\")\n",
    "\n"
   ]
  },
  {
   "cell_type": "code",
   "execution_count": 27,
   "metadata": {},
   "outputs": [
    {
     "name": "stdout",
     "output_type": "stream",
     "text": [
      "Character is uppercase\n"
     ]
    }
   ],
   "source": [
    "a= (input(\"Enter your Number\"))\n",
    "if(a >= 'A' and a <= 'Z'):\n",
    "        print(\"Character is uppercase\")\n",
    "else:\n",
    "        print(\"Not\")"
   ]
  },
  {
   "cell_type": "code",
   "execution_count": 36,
   "metadata": {},
   "outputs": [
    {
     "name": "stdout",
     "output_type": "stream",
     "text": [
      "tringle\n"
     ]
    }
   ],
   "source": [
    "a = int(input(\"Enter a Number\"))\n",
    "b = int(input(\"Enter b Number\"))\n",
    "c = int(input(\"Enter c Number\"))\n",
    "\n",
    "if (a+b+c)==180:\n",
    "    print(\"tringle\")\n",
    "else:\n",
    "    print(\"not\")\n",
    "\n",
    "    "
   ]
  },
  {
   "cell_type": "code",
   "execution_count": 38,
   "metadata": {},
   "outputs": [
    {
     "name": "stdout",
     "output_type": "stream",
     "text": [
      "valid tringle\n"
     ]
    }
   ],
   "source": [
    "a = int(input(\"slied1\"))\n",
    "b = int(input(\"slied2\"))\n",
    "c = int(input(\"slied3\"))\n",
    "\n",
    "if (a+b)>c and (b+c)>a and (a+c)>b:\n",
    "    print(\"valid tringle\")\n",
    "else:\n",
    "    print(\"invalid tringle\")\n"
   ]
  },
  {
   "cell_type": "code",
   "execution_count": null,
   "metadata": {},
   "outputs": [],
   "source": []
  }
 ],
 "metadata": {
  "kernelspec": {
   "display_name": "Python 3",
   "language": "python",
   "name": "python3"
  },
  "language_info": {
   "codemirror_mode": {
    "name": "ipython",
    "version": 3
   },
   "file_extension": ".py",
   "mimetype": "text/x-python",
   "name": "python",
   "nbconvert_exporter": "python",
   "pygments_lexer": "ipython3",
   "version": "3.11.4"
  }
 },
 "nbformat": 4,
 "nbformat_minor": 2
}
